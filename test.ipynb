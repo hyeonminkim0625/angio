{
 "cells": [
  {
   "cell_type": "code",
   "execution_count": 14,
   "metadata": {},
   "outputs": [
    {
     "name": "stdout",
     "output_type": "stream",
     "text": [
      "(61, origin            a-268.jpg\n",
      "segmentation    b-268_M.png\n",
      "x1                      109\n",
      "y1                      106\n",
      "x2                      297\n",
      "y2                      308\n",
      "train                   1.0\n",
      "Name: 61, dtype: object)\n",
      "(127, origin            a-1364.jpg\n",
      "segmentation    b-1364_M.png\n",
      "x1                       183\n",
      "y1                       129\n",
      "x2                       485\n",
      "y2                       430\n",
      "train                    1.0\n",
      "Name: 127, dtype: object)\n",
      "(221, origin            a-4.jpg\n",
      "segmentation    b-4_M.png\n",
      "x1                     55\n",
      "y1                     62\n",
      "x2                    283\n",
      "y2                     18\n",
      "train                 1.0\n",
      "Name: 221, dtype: object)\n",
      "(300, origin            a-1336.jpg\n",
      "segmentation    b-1336_M.png\n",
      "x1                       160\n",
      "y1                        86\n",
      "x2                       295\n",
      "y2                       378\n",
      "train                    1.0\n",
      "Name: 300, dtype: object)\n",
      "(501, origin            a-275.jpg\n",
      "segmentation    b-275_M.png\n",
      "x1                      156\n",
      "y1                      143\n",
      "x2                      288\n",
      "y2                      223\n",
      "train                   1.0\n",
      "Name: 501, dtype: object)\n",
      "(766, origin            a-228.jpg\n",
      "segmentation    b-228_M.png\n",
      "x1                      112\n",
      "y1                       61\n",
      "x2                      311\n",
      "y2                      283\n",
      "train                   1.0\n",
      "Name: 766, dtype: object)\n",
      "(870, origin            a-180.jpg\n",
      "segmentation    b-180_M.png\n",
      "x1                      117\n",
      "y1                       76\n",
      "x2                      269\n",
      "y2                      306\n",
      "train                   1.0\n",
      "Name: 870, dtype: object)\n",
      "(979, origin            a-248.jpg\n",
      "segmentation    b-248_M.png\n",
      "x1                      225\n",
      "y1                      149\n",
      "x2                       95\n",
      "y2                      342\n",
      "train                   1.0\n",
      "Name: 979, dtype: object)\n",
      "(1271, origin            a-631.jpg\n",
      "segmentation    b-631_M.png\n",
      "x1                      151\n",
      "y1                       69\n",
      "x2                      246\n",
      "y2                      290\n",
      "train                   0.0\n",
      "Name: 1271, dtype: object)\n",
      "(1391, origin            a-712.jpg\n",
      "segmentation    b-712_M.png\n",
      "x1                      288\n",
      "y1                      129\n",
      "x2                      159\n",
      "y2                      157\n",
      "train                   0.0\n",
      "Name: 1391, dtype: object)\n"
     ]
    }
   ],
   "source": [
    "import pandas as pd\n",
    "\n",
    "df= pd.read_csv('angio_list.csv')\n",
    "not_use = [1336,275,228,248,712,631,268,4,180,1364]\n",
    "not_use = [str(p) for p in not_use]\n",
    "for item in df.iterrows():\n",
    "    if item[1]['origin'].split('-')[1].split('.')[0] in not_use:\n",
    "        print(1)"
   ]
  },
  {
   "cell_type": "code",
   "execution_count": 15,
   "metadata": {},
   "outputs": [
    {
     "data": {
      "text/plain": [
       "<matplotlib.image.AxesImage at 0x7fb5f0eeb280>"
      ]
     },
     "execution_count": 15,
     "metadata": {},
     "output_type": "execute_result"
    },
    {
     "data": {
      "image/png": "[encoded data removed]",
      "text/plain": [
       "<Figure size 432x288 with 1 Axes>"
      ]
     },
     "metadata": {
      "needs_background": "light"
     },
     "output_type": "display_data"
    }
   ],
   "source": [
    "import cv2\n",
    "import matplotlib.pyplot as plt\n",
    "\n",
    "img = cv2.imread('../angiosegmentation/mask_correct/b-1364_M.png')*255\n",
    "plt.imshow(img)"
   ]
  }
 ],
 "metadata": {
  "interpreter": {
   "hash": "6cf91c28f1ba222b191b927740f92a3b5ee00803c0e7b9af18feebf4023aced2"
  },
  "kernelspec": {
   "display_name": "Python 3.8.10 ('torch')",
   "language": "python",
   "name": "python3"
  },
  "language_info": {
   "codemirror_mode": {
    "name": "ipython",
    "version": 3
   },
   "file_extension": ".py",
   "mimetype": "text/x-python",
   "name": "python",
   "nbconvert_exporter": "python",
   "pygments_lexer": "ipython3",
   "version": "3.8.10"
  },
  "orig_nbformat": 4
 },
 "nbformat": 4,
 "nbformat_minor": 2
}
